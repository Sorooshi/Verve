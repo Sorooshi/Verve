{
 "cells": [
  {
   "cell_type": "code",
   "execution_count": 1,
   "metadata": {},
   "outputs": [],
   "source": [
    "import itertools\n",
    "import numpy as np\n",
    "\n"
   ]
  },
  {
   "cell_type": "code",
   "execution_count": 2,
   "metadata": {},
   "outputs": [],
   "source": [
    "def brute_forth(x, k,  condition=2020.):\n",
    "    \n",
    "    \"\"\"\n",
    "    A brute-forth algorithm to enumerate \n",
    "        all possible combinations and find the entries' sum, which\n",
    "        will be equal to the pre-defined condition (in our 2020).\n",
    "    \n",
    "    x := list or array, input array of length n\n",
    "    k := int, number to choose\n",
    "    condition := float, summation value should be equal to this number\n",
    "    returns: dict, with two pairs of (key, value):\n",
    "        1) entries + int, which shows the entries satisfying the condition\n",
    "        2) multiplication result.\n",
    "        \n",
    "    - Time-complexity O(n choose k) \n",
    "    N.B: Not very oprimized algorithm and fast, there is room for improvment for sure ;)\n",
    "    \"\"\"\n",
    "    \n",
    "    all_cmb = list(itertools.combinations(x, k))\n",
    "    \n",
    "    results = {}\n",
    "    for i in range(len(all_cmb)):\n",
    "        if sum(all_cmb[i]) == condition:\n",
    "            results[\"entries\"+str(i)] = i\n",
    "            results[\"multiplication\"] = all_cmb[i][0] * all_cmb[i][1]\n",
    "            \n",
    "            print(\"Found enteries:\", all_cmb[i], \"\\n\"\n",
    "                  \"Multiplication:\", all_cmb[i][0] * all_cmb[i][1]\n",
    "                 )\n",
    "    \n",
    "    if len(results.items()) == 0:\n",
    "        print(\"No such Enteries' have found!\")\n",
    "    \n",
    "    return results"
   ]
  },
  {
   "cell_type": "code",
   "execution_count": 6,
   "metadata": {},
   "outputs": [
    {
     "data": {
      "text/plain": [
       "(200,)"
      ]
     },
     "execution_count": 6,
     "metadata": {},
     "output_type": "execute_result"
    }
   ],
   "source": [
    "x = np.loadtxt(\"../data/Verve_dataset\")\n",
    "x.shape"
   ]
  },
  {
   "cell_type": "code",
   "execution_count": 25,
   "metadata": {},
   "outputs": [
    {
     "name": "stdout",
     "output_type": "stream",
     "text": [
      "Found enteries: (1245.0, 775.0) \n",
      "Multiplication: 964875.0\n"
     ]
    }
   ],
   "source": [
    "# Sum of two enteries == 2020\n",
    "res_2 = brute_forth(x=x, k=2, condition=2020)"
   ]
  },
  {
   "cell_type": "code",
   "execution_count": 26,
   "metadata": {},
   "outputs": [
    {
     "name": "stdout",
     "output_type": "stream",
     "text": [
      "Found enteries: (1104.0, 715.0, 201.0) \n",
      "Multiplication: 789360.0\n"
     ]
    }
   ],
   "source": [
    "# Sum of three enteries == 2020\n",
    "\n",
    "res_3 = brute_forth(x=x, k=3, condition=2020)"
   ]
  },
  {
   "cell_type": "code",
   "execution_count": 27,
   "metadata": {},
   "outputs": [
    {
     "name": "stdout",
     "output_type": "stream",
     "text": [
      "No such Enteries' have found!\n"
     ]
    }
   ],
   "source": [
    "res_4 = brute_forth(x=x, k=4, condition=2020)"
   ]
  },
  {
   "cell_type": "code",
   "execution_count": null,
   "metadata": {},
   "outputs": [],
   "source": []
  }
 ],
 "metadata": {
  "kernelspec": {
   "display_name": "Python 3 (ipykernel)",
   "language": "python",
   "name": "python3"
  },
  "language_info": {
   "codemirror_mode": {
    "name": "ipython",
    "version": 3
   },
   "file_extension": ".py",
   "mimetype": "text/x-python",
   "name": "python",
   "nbconvert_exporter": "python",
   "pygments_lexer": "ipython3",
   "version": "3.7.3"
  }
 },
 "nbformat": 4,
 "nbformat_minor": 2
}
